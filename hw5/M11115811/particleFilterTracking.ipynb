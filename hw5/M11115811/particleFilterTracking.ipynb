{
 "cells": [
  {
   "cell_type": "code",
   "execution_count": 24,
   "metadata": {},
   "outputs": [],
   "source": [
    "import cv2\n",
    "import numpy as np\n",
    "import math\n",
    "\n",
    "def gaussian1D(m, s):\n",
    "    r = np.random.normal(m, s, 1)  # s: standard deviation\n",
    "    return r\n",
    "\n",
    "def gaussian2D(m, s):\n",
    "    r1 = np.random.normal(m, s, 1)  # s: standard deviation\n",
    "    r2 = np.random.normal(m, s, 1)  # s: standard deviation\n",
    "    return np.array([r1[0], r2[0]])\n",
    "\n",
    "def likelihood(pixel_color, sigma):\n",
    "    d = math.sqrt( (pixel_color[2]-255)**2 + (pixel_color[1]**2) + (pixel_color[0]**2) )\n",
    "    return math.sqrt(1 / (2 * math.pi * sigma**2)) * math.exp(-(d**2) / (2 * sigma**2))\n",
    "\n",
    "def display(numParticles, particles, frame, color):\n",
    "    for i in range(numParticles):\n",
    "        x = int(particles[0, i])\n",
    "        y = int(particles[1, i])\n",
    "        cv2.circle(frame, (x, y), 2, color, -1)\n",
    "    cv2.imshow(\"Frame\", frame)\n",
    "    cv2.waitKey(1)\n"
   ]
  },
  {
   "cell_type": "code",
   "execution_count": 25,
   "metadata": {},
   "outputs": [],
   "source": [
    "cap = cv2.VideoCapture('person.wmv')\n",
    "\n",
    "imgH = 480\n",
    "imgW = 640"
   ]
  },
  {
   "cell_type": "code",
   "execution_count": 26,
   "metadata": {},
   "outputs": [],
   "source": [
    "targetColor = np.array([0, 0, 255])  # red\n",
    "sigma = 80\n",
    "posNoise = 15\n",
    "velNoise = 5\n",
    "\n",
    "numParticles = 5500\n",
    "\n",
    "particles = np.array([\n",
    "    np.random.randint(0, imgW, numParticles),\n",
    "    np.random.randint(0, imgH, numParticles),\n",
    "    3 * np.random.randn(numParticles) + 3,\n",
    "    3 * np.random.randn(numParticles)\n",
    "])"
   ]
  },
  {
   "cell_type": "code",
   "execution_count": 27,
   "metadata": {},
   "outputs": [
    {
     "data": {
      "text/plain": [
       "(4, 5500)"
      ]
     },
     "execution_count": 27,
     "metadata": {},
     "output_type": "execute_result"
    }
   ],
   "source": [
    "particles.shape"
   ]
  },
  {
   "cell_type": "code",
   "execution_count": 28,
   "metadata": {},
   "outputs": [],
   "source": [
    "weights = np.ones(numParticles) / numParticles\n",
    "predMat = np.array([[1, 0, 1, 0], [0, 1, 0, 1], [0, 0, 1, 0], [0, 0, 0, 1]])\n"
   ]
  },
  {
   "cell_type": "code",
   "execution_count": 29,
   "metadata": {},
   "outputs": [],
   "source": [
    "if not cap.isOpened():\n",
    "    print(\"Error opening video stream or file\")"
   ]
  },
  {
   "cell_type": "code",
   "execution_count": 30,
   "metadata": {},
   "outputs": [],
   "source": [
    "frameCount = 0\n",
    "while cap.isOpened():\n",
    "    ret, frame = cap.read()\n",
    "    rawFrame = np.copy(frame)\n",
    "    if ret:\n",
    "        frameCount += 1\n",
    "        if frameCount < 30:\n",
    "            continue\n",
    "\n",
    "        for i in range(numParticles):\n",
    "            x = int(particles[0, i])\n",
    "            y = int(particles[1, i])\n",
    "            if x >= 0 and x < imgW and y >= 0 and y < imgH:\n",
    "                pixel_color = frame[y, x]\n",
    "                color_likelihood = likelihood(pixel_color,sigma)\n",
    "                weights[i] = color_likelihood\n",
    "\n",
    "        weights /= np.sum(weights)\n",
    "\n",
    "        indices = np.random.choice(np.arange(numParticles), size=numParticles, replace=True, p=weights)\n",
    "        particles = particles[:, indices]\n",
    "\n",
    "        weights = np.ones(numParticles) / numParticles\n",
    "\n",
    "        display(numParticles, particles, frame, (255, 0, 0))\n",
    "\n",
    "        for i in range(numParticles):\n",
    "            particles[:2, i] = np.dot(predMat[:2, :2], particles[:2, i]) + gaussian2D(0, posNoise)\n",
    "            particles[2:, i] = np.dot(predMat[2:, 2:], particles[2:, i]) + gaussian2D(0, velNoise)\n",
    "\n",
    "        if cv2.waitKey(25) & 0xFF == ord('q'):\n",
    "            break\n",
    "\n",
    "    else:\n",
    "        break\n",
    "\n",
    "cap.release()\n",
    "cv2.destroyAllWindows()"
   ]
  }
 ],
 "metadata": {
  "kernelspec": {
   "display_name": "base",
   "language": "python",
   "name": "python3"
  },
  "language_info": {
   "codemirror_mode": {
    "name": "ipython",
    "version": 3
   },
   "file_extension": ".py",
   "mimetype": "text/x-python",
   "name": "python",
   "nbconvert_exporter": "python",
   "pygments_lexer": "ipython3",
   "version": "3.9.12"
  },
  "orig_nbformat": 4
 },
 "nbformat": 4,
 "nbformat_minor": 2
}
