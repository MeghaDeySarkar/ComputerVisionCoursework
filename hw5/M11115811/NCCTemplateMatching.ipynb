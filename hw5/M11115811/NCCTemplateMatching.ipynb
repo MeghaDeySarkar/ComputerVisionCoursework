{
 "cells": [
  {
   "cell_type": "code",
   "execution_count": 2,
   "metadata": {},
   "outputs": [],
   "source": [
    "import cv2\n",
    "import numpy as np\n",
    "import matplotlib.pyplot as plt\n",
    "\n",
    "search_img = cv2.imread('search.png')\n",
    "template_img = cv2.imread('template.png')\n",
    "search_lab = cv2.cvtColor(search_img, cv2.COLOR_BGR2Lab)\n",
    "template_lab = cv2.cvtColor(template_img, cv2.COLOR_BGR2Lab)\n",
    "\n",
    "template_height, template_width = template_img.shape[:2]\n",
    "half_width = template_width // 2\n",
    "half_height = template_height // 2\n",
    "\n",
    "scores = []\n",
    "positions = []\n",
    "\n",
    "for y in range(half_height, search_img.shape[0] - half_height):\n",
    "    for x in range(half_width, search_img.shape[1] - half_width):\n",
    "        # Extract the region of interest from the search image and resize it to the template size\n",
    "        roi = search_lab[y - half_height:y + half_height, x - half_width:x + half_width]\n",
    "        roi_resized = cv2.resize(roi, (template_width, template_height))\n",
    "        \n",
    "        # Normalize the template and the resized region of interest\n",
    "        normalized_template = (template_lab - np.mean(template_lab)) / np.std(template_lab)\n",
    "        normalized_roi = (roi_resized - np.mean(roi_resized)) / np.std(roi_resized)\n",
    "        ncc_metric = np.sum(normalized_template * normalized_roi)\n",
    "\n",
    "        scores.append(ncc_metric)\n",
    "        positions.append((x, y))\n",
    "\n",
    "# Sort the scores and positions in descending order\n",
    "sorted_indices = np.argsort(scores)[::-1]\n",
    "sorted_scores = np.array(scores)[sorted_indices]\n",
    "sorted_positions = np.array(positions)[sorted_indices]\n",
    "\n",
    "# Define the indices for specific matches to visualize\n",
    "indices_to_visualize = [0, 1, 4, 9, 99, 499]\n",
    "\n",
    "# Display the patches for specific matches\n",
    "for i in indices_to_visualize:\n",
    "    x, y = sorted_positions[i]\n",
    "    patch = search_img[y - half_height:y + half_height, x - half_width:x + half_width]\n",
    "    cv2.imshow(f'Patch {i+1}', patch)\n",
    "\n",
    "cv2.waitKey(0)\n",
    "cv2.destroyAllWindows()"
   ]
  }
 ],
 "metadata": {
  "kernelspec": {
   "display_name": "base",
   "language": "python",
   "name": "python3"
  },
  "language_info": {
   "codemirror_mode": {
    "name": "ipython",
    "version": 3
   },
   "file_extension": ".py",
   "mimetype": "text/x-python",
   "name": "python",
   "nbconvert_exporter": "python",
   "pygments_lexer": "ipython3",
   "version": "3.9.12"
  },
  "orig_nbformat": 4
 },
 "nbformat": 4,
 "nbformat_minor": 2
}
