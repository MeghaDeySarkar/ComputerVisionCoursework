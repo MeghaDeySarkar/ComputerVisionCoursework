{
 "cells": [
  {
   "cell_type": "code",
   "execution_count": 15,
   "metadata": {},
   "outputs": [
    {
     "name": "stdout",
     "output_type": "stream",
     "text": [
      "Estimated coefficient beta_hat_0: -4.682601264693579\n",
      "Estimated coefficient beta_hat_1: 0.10436184665265441\n"
     ]
    }
   ],
   "source": [
    "import numpy as np\n",
    "from scipy.optimize import minimize\n",
    "\n",
    "# Input data\n",
    "age = np.array([30, 35, 40, 45, 50, 55, 60, 65])\n",
    "ill_people = np.array([19, 27, 38, 48, 61, 73, 84, 91])\n",
    "people_tested = np.array([100, 100, 100, 100, 100, 100, 100, 100])\n",
    "\n",
    "# Define the logistic regression function\n",
    "def logistic_regression(params):\n",
    "    beta0 = params[0]\n",
    "    beta1 = params[1]\n",
    "    logit = beta0 + beta1 * age\n",
    "    pi = np.exp(logit) / (1 + np.exp(logit))\n",
    "    log_likelihood = ill_people * np.log(pi) + (people_tested - ill_people) * np.log(1 - pi)\n",
    "    return -np.sum(log_likelihood)\n",
    "\n",
    "# Set initial parameter values for optimization\n",
    "initial_params = np.array([0, 0])\n",
    "\n",
    "# Perform maximum likelihood estimation (MLE) to find the estimated coefficients\n",
    "result = minimize(logistic_regression, initial_params, method='Nelder-Mead')\n",
    "beta_hat_0 = result.x[0]\n",
    "beta_hat_1 = result.x[1]\n",
    "\n",
    "# Print the estimated coefficients\n",
    "print(\"Estimated coefficient beta_hat_0:\", beta_hat_0)\n",
    "print(\"Estimated coefficient beta_hat_1:\", beta_hat_1)"
   ]
  },
  {
   "cell_type": "code",
   "execution_count": 16,
   "metadata": {},
   "outputs": [
    {
     "name": "stdout",
     "output_type": "stream",
     "text": [
      "Group: 1\n",
      "Unbiased Estimate: 0.19\n",
      "Estimated Probability: 0.15446526508353467\n",
      "\n",
      "Group: 2\n",
      "Unbiased Estimate: 0.27\n",
      "Estimated Probability: 0.24048908305088895\n",
      "\n",
      "Group: 3\n",
      "Unbiased Estimate: 0.38\n",
      "Estimated Probability: 0.35434369377420466\n",
      "\n",
      "Group: 4\n",
      "Unbiased Estimate: 0.48\n",
      "Estimated Probability: 0.48750260351578967\n",
      "\n",
      "Group: 5\n",
      "Unbiased Estimate: 0.61\n",
      "Estimated Probability: 0.6224593312018546\n",
      "\n",
      "Group: 6\n",
      "Unbiased Estimate: 0.73\n",
      "Estimated Probability: 0.740774899182154\n",
      "\n",
      "Group: 7\n",
      "Unbiased Estimate: 0.84\n",
      "Estimated Probability: 0.8320183851339245\n",
      "\n",
      "Group: 8\n",
      "Unbiased Estimate: 0.91\n",
      "Estimated Probability: 0.8956687768809988\n",
      "\n"
     ]
    }
   ],
   "source": [
    "import math\n",
    "\n",
    "# Given coefficients\n",
    "beta0_hat = -5.00\n",
    "beta1_hat = 0.11\n",
    "\n",
    "# Input data\n",
    "age = [30, 35, 40, 45, 50, 55, 60, 65]\n",
    "ill_people = [19, 27, 38, 48, 61, 73, 84, 91]\n",
    "people_tested = [100, 100, 100, 100, 100, 100, 100, 100]\n",
    "\n",
    "# Calculate unbiased estimate and estimated probability for each group\n",
    "unbiased_estimates = []\n",
    "estimated_probabilities = []\n",
    "for i in range(len(age)):\n",
    "    # Calculate unbiased estimate (number of ill people / number of people tested)\n",
    "    unbiased_estimate = ill_people[i] / people_tested[i]\n",
    "    unbiased_estimates.append(unbiased_estimate)\n",
    "\n",
    "    # Calculate estimated probability using logistic regression equation\n",
    "    logit = beta0_hat + beta1_hat * age[i]\n",
    "    probability = math.exp(logit) / (1 + math.exp(logit))\n",
    "    estimated_probabilities.append(probability)\n",
    "\n",
    "# Print the unbiased estimates and estimated probabilities for each group\n",
    "for i in range(len(age)):\n",
    "    print(\"Group:\", i+1)\n",
    "    print(\"Unbiased Estimate:\", unbiased_estimates[i])\n",
    "    print(\"Estimated Probability:\", estimated_probabilities[i])\n",
    "    print()\n"
   ]
  },
  {
   "attachments": {},
   "cell_type": "markdown",
   "metadata": {},
   "source": [
    "#manual epochs"
   ]
  },
  {
   "cell_type": "code",
   "execution_count": 17,
   "metadata": {},
   "outputs": [
    {
     "name": "stdout",
     "output_type": "stream",
     "text": [
      "Estimated coefficient beta_hat_0: -5.98753193963521\n",
      "Estimated coefficient beta_hat_1: 0.10912229500138065\n"
     ]
    }
   ],
   "source": [
    "import numpy as np\n",
    "\n",
    "# Input data\n",
    "age = np.array([30, 35, 40, 45, 50, 55, 60, 65])\n",
    "ill_people = np.array([19, 27, 38, 48, 61, 73, 84, 91])\n",
    "people_tested = np.array([100, 100, 100, 100, 100, 100, 100, 100])\n",
    "\n",
    "# Initialize coefficients\n",
    "beta0_hat = 0\n",
    "beta1_hat = 0\n",
    "\n",
    "# Set learning rate and number of epochs\n",
    "learning_rate = 0.001\n",
    "num_epochs = 20000\n",
    "\n",
    "# Perform gradient descent\n",
    "for epoch in range(num_epochs):\n",
    "    # Calculate predicted probabilities\n",
    "    pi = np.exp(beta0_hat + beta1_hat * age) / (1 + np.exp(beta0_hat + beta1_hat * age))\n",
    "    \n",
    "    # Update coefficients using gradient descent\n",
    "    beta0_hat -= learning_rate * np.sum((pi - ill_people/people_tested))\n",
    "    beta1_hat -= learning_rate * np.sum((pi - ill_people/people_tested) * age)\n",
    "\n",
    "# Print the estimated coefficients\n",
    "print(\"Estimated coefficient beta_hat_0:\", beta0_hat)\n",
    "print(\"Estimated coefficient beta_hat_1:\", beta1_hat)\n"
   ]
  },
  {
   "attachments": {},
   "cell_type": "markdown",
   "metadata": {},
   "source": [
    "ques 1 and 2 through manual epochs\n"
   ]
  },
  {
   "cell_type": "code",
   "execution_count": 18,
   "metadata": {},
   "outputs": [
    {
     "name": "stdout",
     "output_type": "stream",
     "text": [
      "-5.98753193963521\n",
      "0.10912229500138065\n",
      "Group: 1\n",
      "Unbiased Estimate: 0.19\n",
      "Estimated Probability: 0.06216026601222806\n",
      "\n",
      "Group: 2\n",
      "Unbiased Estimate: 0.27\n",
      "Estimated Probability: 0.1026379538534821\n",
      "\n",
      "Group: 3\n",
      "Unbiased Estimate: 0.38\n",
      "Estimated Probability: 0.16484108444091122\n",
      "\n",
      "Group: 4\n",
      "Unbiased Estimate: 0.48\n",
      "Estimated Probability: 0.25406872603004454\n",
      "\n",
      "Group: 5\n",
      "Unbiased Estimate: 0.61\n",
      "Estimated Probability: 0.37018641176440514\n",
      "\n",
      "Group: 6\n",
      "Unbiased Estimate: 0.73\n",
      "Estimated Probability: 0.5035485117815373\n",
      "\n",
      "Group: 7\n",
      "Unbiased Estimate: 0.84\n",
      "Estimated Probability: 0.6364075958060569\n",
      "\n",
      "Group: 8\n",
      "Unbiased Estimate: 0.91\n",
      "Estimated Probability: 0.7512737556472597\n",
      "\n"
     ]
    }
   ],
   "source": [
    "import numpy as np\n",
    "\n",
    "# Input data\n",
    "age = np.array([30, 35, 40, 45, 50, 55, 60, 65])\n",
    "ill_people = np.array([19, 27, 38, 48, 61, 73, 84, 91])\n",
    "people_tested = np.array([100, 100, 100, 100, 100, 100, 100, 100])\n",
    "\n",
    "# Initialize coefficients\n",
    "beta0_hat = 0\n",
    "beta1_hat = 0\n",
    "\n",
    "# Set learning rate and number of epochs\n",
    "learning_rate = 0.001\n",
    "num_epochs = 20000\n",
    "\n",
    "# Perform gradient descent\n",
    "for epoch in range(num_epochs):\n",
    "    # Calculate predicted probabilities\n",
    "    pi = np.exp(beta0_hat + beta1_hat * age) / (1 + np.exp(beta0_hat + beta1_hat * age))\n",
    "    \n",
    "    # Update coefficients using gradient descent\n",
    "    beta0_hat -= learning_rate * np.sum((pi - ill_people/people_tested))\n",
    "    beta1_hat -= learning_rate * np.sum((pi - ill_people/people_tested) * age)\n",
    "\n",
    "print(beta0_hat)\n",
    "print(beta1_hat)\n",
    "# Calculate unbiased estimate for each group\n",
    "unbiased_estimates = ill_people / people_tested\n",
    "\n",
    "# Calculate estimated probability for each group\n",
    "estimated_probabilities = np.exp(beta0_hat + beta1_hat * age) / (1 + np.exp(beta0_hat + beta1_hat * age))\n",
    "\n",
    "# Print the unbiased estimates and estimated probabilities for each group\n",
    "for i in range(len(age)):\n",
    "    print(\"Group:\", i+1)\n",
    "    print(\"Unbiased Estimate:\", unbiased_estimates[i])\n",
    "    print(\"Estimated Probability:\", estimated_probabilities[i])\n",
    "    print()\n"
   ]
  },
  {
   "cell_type": "code",
   "execution_count": 18,
   "metadata": {},
   "outputs": [
    {
     "name": "stdout",
     "output_type": "stream",
     "text": [
      "Group: 1\n",
      "Unbiased Estimate: 0.19\n",
      "Estimated Probability: 0.15446526508353467\n",
      "\n",
      "Group: 2\n",
      "Unbiased Estimate: 0.27\n",
      "Estimated Probability: 0.24048908305088895\n",
      "\n",
      "Group: 3\n",
      "Unbiased Estimate: 0.38\n",
      "Estimated Probability: 0.35434369377420466\n",
      "\n",
      "Group: 4\n",
      "Unbiased Estimate: 0.48\n",
      "Estimated Probability: 0.48750260351578967\n",
      "\n",
      "Group: 5\n",
      "Unbiased Estimate: 0.61\n",
      "Estimated Probability: 0.6224593312018546\n",
      "\n",
      "Group: 6\n",
      "Unbiased Estimate: 0.73\n",
      "Estimated Probability: 0.740774899182154\n",
      "\n",
      "Group: 7\n",
      "Unbiased Estimate: 0.84\n",
      "Estimated Probability: 0.8320183851339245\n",
      "\n",
      "Group: 8\n",
      "Unbiased Estimate: 0.91\n",
      "Estimated Probability: 0.8956687768809988\n",
      "\n"
     ]
    }
   ],
   "source": [
    "import numpy as np\n",
    "\n",
    "# Input data\n",
    "age = np.array([30, 35, 40, 45, 50, 55, 60, 65])\n",
    "ill_people = np.array([19, 27, 38, 48, 61, 73, 84, 91])\n",
    "people_tested = np.array([100, 100, 100, 100, 100, 100, 100, 100])\n",
    "\n",
    "# Initialize coefficients\n",
    "beta0_hat = 0\n",
    "beta1_hat = 0\n",
    "\n",
    "# Set learning rate and number of epochs\n",
    "learning_rate = 0.05\n",
    "num_epochs = 5\n",
    "\n",
    "# Perform gradient descent\n",
    "for epoch in range(num_epochs):\n",
    "    # Calculate predicted probabilities\n",
    "    pi = np.exp(beta0_hat + beta1_hat * age) / (1 + np.exp(beta0_hat + beta1_hat * age))\n",
    "    \n",
    "    # Update coefficients using gradient descent\n",
    "    beta0_hat -= learning_rate * np.sum((pi - ill_people/people_tested))\n",
    "    beta1_hat -= learning_rate * np.sum((pi - ill_people/people_tested) * age)\n",
    "\n",
    "# Calculate unbiased estimate for each group\n",
    "unbiased_estimates = ill_people / people_tested\n",
    "\n",
    "# Calculate estimated probability for each group\n",
    "estimated_probabilities = np.exp((-5.00) + ((0.11) * age)) / (1 + np.exp((-5.0) + ((0.11) * age)))\n",
    "\n",
    "# Print the unbiased estimates and estimated probabilities for each group\n",
    "for i in range(len(age)):\n",
    "    print(\"Group:\", i+1)\n",
    "    print(\"Unbiased Estimate:\", unbiased_estimates[i])\n",
    "    print(\"Estimated Probability:\", estimated_probabilities[i])\n",
    "    print()\n"
   ]
  },
  {
   "cell_type": "code",
   "execution_count": 20,
   "metadata": {},
   "outputs": [
    {
     "name": "stdout",
     "output_type": "stream",
     "text": [
      "[[ 1. 30.]\n",
      " [ 1. 35.]\n",
      " [ 1. 40.]\n",
      " [ 1. 45.]\n",
      " [ 1. 50.]\n",
      " [ 1. 55.]\n",
      " [ 1. 60.]\n",
      " [ 1. 65.]]\n"
     ]
    }
   ],
   "source": [
    "import numpy as np\n",
    "\n",
    "age = np.array([30, 35, 40, 45, 50, 55, 60, 65])\n",
    "\n",
    "# Add a column of ones for the intercept term\n",
    "X = np.column_stack((np.ones(len(age)), age))\n",
    "print(X)"
   ]
  },
  {
   "attachments": {},
   "cell_type": "markdown",
   "metadata": {},
   "source": [
    "ques 1 and 2 through manual epochs\n"
   ]
  },
  {
   "cell_type": "code",
   "execution_count": 1,
   "metadata": {},
   "outputs": [
    {
     "name": "stdout",
     "output_type": "stream",
     "text": [
      "Optimization terminated successfully.\n",
      "         Current function value: 0.463573\n",
      "         Iterations 6\n",
      "Estimated Coefficients:\n",
      "[-4.68261047  0.10436217]\n",
      "\n",
      "Covariance Matrix for β̂:\n",
      "[[ 1.49491300e+01 -3.10959606e-01]\n",
      " [-3.10959606e-01  6.77290872e-03]]\n",
      "[[ 1. 30.]\n",
      " [ 1. 35.]\n",
      " [ 1. 40.]\n",
      " [ 1. 45.]\n",
      " [ 1. 50.]\n",
      " [ 1. 55.]\n",
      " [ 1. 60.]\n",
      " [ 1. 65.]]\n"
     ]
    }
   ],
   "source": [
    "import numpy as np\n",
    "import statsmodels.api as sm\n",
    "\n",
    "# Define the age values and the corresponding number of ill and tested people\n",
    "age = np.array([30, 35, 40, 45, 50, 55, 60, 65])\n",
    "ill_people = np.array([19, 27, 38, 48, 61, 73, 84, 91])\n",
    "tested_people = np.array([100, 100, 100, 100, 100, 100, 100, 100])\n",
    "\n",
    "# Normalize the dependent variable to be in the unit interval\n",
    "normalized_illness_rate = ill_people / tested_people\n",
    "\n",
    "# Create a matrix X with the age values\n",
    "X = sm.add_constant(age)  # Add a column of ones for the intercept term\n",
    "\n",
    "# Perform logistic regression to estimate the coefficients β̂0 and β̂1\n",
    "model = sm.Logit(normalized_illness_rate, X)\n",
    "results = model.fit()\n",
    "estimated_coefficients = results.params\n",
    "\n",
    "# Compute the covariance matrix for β̂ using the formula Var(β̂) = (X'WX)^(-1)\n",
    "covariance_matrix = np.linalg.inv(np.dot(np.dot(X.T, np.diag(normalized_illness_rate * (1 - normalized_illness_rate))), X))\n",
    "\n",
    "# Print the estimated coefficients and covariance matrix\n",
    "print(\"Estimated Coefficients:\")\n",
    "print(estimated_coefficients)\n",
    "print(\"\\nCovariance Matrix for β̂:\")\n",
    "print(covariance_matrix)\n",
    "print(X)\n"
   ]
  },
  {
   "cell_type": "code",
   "execution_count": null,
   "metadata": {},
   "outputs": [],
   "source": [
    "covariance_matrix = np.linalg.inv(np.dot(np.dot(X.T, np.diag(normalized_illness_rate * (1 - normalized_illness_rate))), X))"
   ]
  },
  {
   "cell_type": "code",
   "execution_count": 23,
   "metadata": {},
   "outputs": [
    {
     "data": {
      "text/plain": [
       "array([0.19, 0.27, 0.38, 0.48, 0.61, 0.73, 0.84, 0.91])"
      ]
     },
     "execution_count": 23,
     "metadata": {},
     "output_type": "execute_result"
    }
   ],
   "source": [
    "normalized_illness_rate"
   ]
  },
  {
   "cell_type": "code",
   "execution_count": 3,
   "metadata": {},
   "outputs": [
    {
     "data": {
      "text/plain": [
       "array([0.1539, 0.1971, 0.2356, 0.2496, 0.2379, 0.1971, 0.1344, 0.0819])"
      ]
     },
     "execution_count": 3,
     "metadata": {},
     "output_type": "execute_result"
    }
   ],
   "source": [
    "(normalized_illness_rate * (1 - normalized_illness_rate))"
   ]
  },
  {
   "cell_type": "code",
   "execution_count": 4,
   "metadata": {},
   "outputs": [
    {
     "data": {
      "text/plain": [
       "array([[0.1539, 0.    , 0.    , 0.    , 0.    , 0.    , 0.    , 0.    ],\n",
       "       [0.    , 0.1971, 0.    , 0.    , 0.    , 0.    , 0.    , 0.    ],\n",
       "       [0.    , 0.    , 0.2356, 0.    , 0.    , 0.    , 0.    , 0.    ],\n",
       "       [0.    , 0.    , 0.    , 0.2496, 0.    , 0.    , 0.    , 0.    ],\n",
       "       [0.    , 0.    , 0.    , 0.    , 0.2379, 0.    , 0.    , 0.    ],\n",
       "       [0.    , 0.    , 0.    , 0.    , 0.    , 0.1971, 0.    , 0.    ],\n",
       "       [0.    , 0.    , 0.    , 0.    , 0.    , 0.    , 0.1344, 0.    ],\n",
       "       [0.    , 0.    , 0.    , 0.    , 0.    , 0.    , 0.    , 0.0819]])"
      ]
     },
     "execution_count": 4,
     "metadata": {},
     "output_type": "execute_result"
    }
   ],
   "source": [
    "np.diag(normalized_illness_rate * (1 - normalized_illness_rate))"
   ]
  },
  {
   "cell_type": "code",
   "execution_count": 5,
   "metadata": {},
   "outputs": [
    {
     "data": {
      "text/plain": [
       "array([[ 1.,  1.,  1.,  1.,  1.,  1.,  1.,  1.],\n",
       "       [30., 35., 40., 45., 50., 55., 60., 65.]])"
      ]
     },
     "execution_count": 5,
     "metadata": {},
     "output_type": "execute_result"
    }
   ],
   "source": [
    "X.T"
   ]
  },
  {
   "cell_type": "code",
   "execution_count": 6,
   "metadata": {},
   "outputs": [
    {
     "data": {
      "text/plain": [
       "array([[ 0.1539,  0.1971,  0.2356,  0.2496,  0.2379,  0.1971,  0.1344,\n",
       "         0.0819],\n",
       "       [ 4.617 ,  6.8985,  9.424 , 11.232 , 11.895 , 10.8405,  8.064 ,\n",
       "         5.3235]])"
      ]
     },
     "execution_count": 6,
     "metadata": {},
     "output_type": "execute_result"
    }
   ],
   "source": [
    "np.dot(X.T, np.diag(normalized_illness_rate * (1 - normalized_illness_rate)))"
   ]
  },
  {
   "cell_type": "code",
   "execution_count": 7,
   "metadata": {},
   "outputs": [
    {
     "data": {
      "text/plain": [
       "array([[ 1., 30.],\n",
       "       [ 1., 35.],\n",
       "       [ 1., 40.],\n",
       "       [ 1., 45.],\n",
       "       [ 1., 50.],\n",
       "       [ 1., 55.],\n",
       "       [ 1., 60.],\n",
       "       [ 1., 65.]])"
      ]
     },
     "execution_count": 7,
     "metadata": {},
     "output_type": "execute_result"
    }
   ],
   "source": [
    "X"
   ]
  },
  {
   "cell_type": "code",
   "execution_count": null,
   "metadata": {},
   "outputs": [],
   "source": [
    "np.dot(np.dot(X.T, np.diag(normalized_illness_rate * (1 - normalized_illness_rate))), X)"
   ]
  },
  {
   "cell_type": "code",
   "execution_count": 9,
   "metadata": {},
   "outputs": [
    {
     "name": "stdout",
     "output_type": "stream",
     "text": [
      "Group 1: Unbiased Estimate = 0.1016949152542373\n",
      "Group 2: Unbiased Estimate = 0.21666666666666667\n",
      "Group 3: Unbiased Estimate = 0.2903225806451613\n",
      "Group 4: Unbiased Estimate = 0.5\n",
      "Group 5: Unbiased Estimate = 0.8253968253968254\n",
      "Group 6: Unbiased Estimate = 0.8983050847457628\n",
      "Group 7: Unbiased Estimate = 0.9838709677419355\n",
      "Group 8: Unbiased Estimate = 1.0\n"
     ]
    }
   ],
   "source": [
    "import numpy as np\n",
    "\n",
    "# Define the data\n",
    "dose = np.array([49.057, 52.991, 56.991, 60.542, 64.359, 68.891, 72.611, 76.542])\n",
    "z = np.array([3.893, 3.970, 4.043, 4.103, 4.164, 4.233, 4.258, 4.338])\n",
    "number_killed = np.array([6, 13, 18, 28, 52, 53, 61, 60])\n",
    "number_survival = np.array([53, 47, 44, 28, 11, 6, 1, 0])\n",
    "\n",
    "# Calculate the unbiased estimate for each group\n",
    "unbiased_estimate_group = (number_killed) / (number_killed + number_survival)\n",
    "\n",
    "# Print the unbiased estimate for each group\n",
    "for i in range(len(dose)):\n",
    "    print(f\"Group {i+1}: Unbiased Estimate = {unbiased_estimate_group[i]}\")\n"
   ]
  },
  {
   "cell_type": "code",
   "execution_count": 10,
   "metadata": {},
   "outputs": [
    {
     "name": "stdout",
     "output_type": "stream",
     "text": [
      "Group 1: Empirical Logit = -2.178532444324067\n",
      "Group 2: Empirical Logit = -1.285198244248522\n",
      "Group 3: Empirical Logit = -0.8938178760220964\n",
      "Group 4: Empirical Logit = 0.0\n",
      "Group 5: Empirical Logit = 1.5533484457830569\n",
      "Group 6: Empirical Logit = 2.178532444324067\n",
      "Group 7: Empirical Logit = 4.110873864173311\n",
      "Group 8: Empirical Logit = inf\n"
     ]
    },
    {
     "name": "stderr",
     "output_type": "stream",
     "text": [
      "C:\\Users\\user\\AppData\\Local\\Temp\\ipykernel_8732\\3300235719.py:10: RuntimeWarning: divide by zero encountered in true_divide\n",
      "  empirical_logit_group = np.log(number_killed / number_survival)\n"
     ]
    }
   ],
   "source": [
    "import numpy as np\n",
    "\n",
    "# Define the data\n",
    "dose = np.array([49.057, 52.991, 56.991, 60.542, 64.359, 68.891, 72.611, 76.542])\n",
    "z = np.array([3.893, 3.970, 4.043, 4.103, 4.164, 4.233, 4.258, 4.338])\n",
    "number_killed = np.array([6, 13, 18, 28, 52, 53, 61, 60])\n",
    "number_survival = np.array([53, 47, 44, 28, 11, 6, 1, 0])\n",
    "\n",
    "# Calculate the empirical logit for each group\n",
    "empirical_logit_group = np.log(number_killed / number_survival)\n",
    "\n",
    "# Print the empirical logit for each group\n",
    "for i in range(len(dose)):\n",
    "    print(f\"Group {i+1}: Empirical Logit = {empirical_logit_group[i]}\")\n"
   ]
  },
  {
   "cell_type": "code",
   "execution_count": 50,
   "metadata": {},
   "outputs": [
    {
     "name": "stdout",
     "output_type": "stream",
     "text": [
      "Unbiased Estimate (pi): [0.19 0.27 0.38 0.48 0.61 0.73 0.84 0.91]\n",
      "Estimated Probability (pi_i): [0.15446527 0.24048908 0.35434369 0.4875026  0.62245933 0.7407749\n",
      " 0.83201839 0.89566878]\n",
      "Covariance Matrix for beta_hat:\n",
      "[[ 1.56680648e-01 -3.22362785e-03]\n",
      " [-3.22362785e-03  6.93736869e-05]]\n"
     ]
    }
   ],
   "source": [
    "import numpy as np\n",
    "\n",
    "# Data\n",
    "age = np.array([30, 35, 40, 45, 50, 55, 60, 65])\n",
    "number_ill = np.array([19, 27, 38, 48, 61, 73, 84, 91])\n",
    "number_tested = np.array([100, 100, 100, 100, 100, 100, 100, 100])\n",
    "beta0 = -5\n",
    "beta1 = 0.11\n",
    "n = 100\n",
    "# Unbiased estimate\n",
    "unbiased_estimate = number_ill / number_tested\n",
    "\n",
    "# Estimated probability\n",
    "pi_i = np.exp(beta0 + (beta1 * age)) / (1 + np.exp(beta0 + (beta1 * age)))\n",
    "\n",
    "# Covariance matrix for beta_hat\n",
    "X = np.column_stack((np.ones_like(age), age))\n",
    "V = np.diag(n*pi_i * (1 - pi_i))\n",
    "cov_beta_hat = np.linalg.inv(np.dot(np.dot(np.transpose(X),V),X))\n",
    "\n",
    "# Print the results\n",
    "print(\"Unbiased Estimate (pi):\", unbiased_estimate)\n",
    "print(\"Estimated Probability (pi_i):\", pi_i)\n",
    "print(\"Covariance Matrix for beta_hat:\")\n",
    "print(cov_beta_hat)\n",
    "# print(X)\n",
    "# print(V)\n",
    "\n",
    "\n"
   ]
  },
  {
   "cell_type": "code",
   "execution_count": 43,
   "metadata": {},
   "outputs": [
    {
     "data": {
      "text/plain": [
       "array([[ 1, 30],\n",
       "       [ 1, 35],\n",
       "       [ 1, 40],\n",
       "       [ 1, 45],\n",
       "       [ 1, 50],\n",
       "       [ 1, 55],\n",
       "       [ 1, 60],\n",
       "       [ 1, 65]])"
      ]
     },
     "execution_count": 43,
     "metadata": {},
     "output_type": "execute_result"
    }
   ],
   "source": [
    "X"
   ]
  },
  {
   "cell_type": "code",
   "execution_count": 31,
   "metadata": {},
   "outputs": [
    {
     "name": "stdout",
     "output_type": "stream",
     "text": [
      "Estimated probabilities (pi_hat):\n",
      "[0.05853922 0.16387517 0.36664939 0.58733752 0.77952629 0.90684254\n",
      " 0.95514327 0.97902173]\n",
      "\n",
      "Covariance matrix for beta_hat:\n",
      "[[1640.86098478 -400.61296479]\n",
      " [-400.61296479   97.86932763]]\n"
     ]
    }
   ],
   "source": [
    "import numpy as np\n",
    "from scipy.stats import logistic\n",
    "\n",
    "dose = np.array([49.057, 52.991, 56.991, 60.542, 64.359, 68.891, 72.611, 76.542])\n",
    "z = np.log(dose)  # Taking the natural logarithm of dose\n",
    "\n",
    "number_killed = np.array([6, 13, 18, 28, 52, 53, 61, 60])\n",
    "number_survival = np.array([53, 47, 44, 28, 11, 6, 1, 0])\n",
    "\n",
    "# Coefficient values\n",
    "Beta_0 = -60.717\n",
    "Beta_1 = 14.883\n",
    "\n",
    "# Calculate the estimated probabilities (pi_hat)\n",
    "linear_combination = Beta_0 + Beta_1 * z\n",
    "estimated_probabilities = np.exp(linear_combination) / (1 + np.exp(linear_combination))\n",
    "\n",
    "# Calculate the covariance matrix for beta_hat\n",
    "X = np.column_stack((np.ones(len(z)), z))\n",
    "n = len(X)\n",
    "\n",
    "# Calculate the diagonal matrix of pi_hat * (1 - pi_hat)\n",
    "V = np.diag(estimated_probabilities * (1 - estimated_probabilities))\n",
    "\n",
    "# Calculate the covariance matrix\n",
    "covariance_matrix = np.linalg.inv(np.dot(np.dot(X.T, V), X))\n",
    "\n",
    "print(\"Estimated probabilities (pi_hat):\")\n",
    "print(estimated_probabilities)\n",
    "print(\"\\nCovariance matrix for beta_hat:\")\n",
    "print(covariance_matrix)\n"
   ]
  },
  {
   "cell_type": "code",
   "execution_count": 36,
   "metadata": {},
   "outputs": [
    {
     "name": "stdout",
     "output_type": "stream",
     "text": [
      "Unbiased Estimate (pi): [0.19 0.27 0.38 0.48 0.61 0.73 0.84 0.91]\n",
      "Estimated Probability (pi_i): [0.05855326 0.16362635 0.36701802 0.58612013 0.77830432 0.90743737\n",
      " 0.93430708 0.9790707 ]\n",
      "Covariance Matrix for beta_hat:\n",
      "[[ 9.11881365e+01 -1.49130768e+00]\n",
      " [-1.49130768e+00  2.46581093e-02]]\n"
     ]
    }
   ],
   "source": [
    "import numpy as np\n",
    "\n",
    "# Data\n",
    "# age = np.array([30, 35, 40, 45, 50, 55, 60, 65])\n",
    "# number_ill = np.array([19, 27, 38, 48, 61, 73, 84, 91])\n",
    "# number_tested = np.array([100, 100, 100, 100, 100, 100, 100, 100])\n",
    "dose = np.array([49.057, 52.991, 56.991, 60.542, 64.359, 68.891, 72.611, 76.542])\n",
    "z = np.array([3.893, 3.970, 4.043, 4.103, 4.164, 4.233, 4.258, 4.338])\n",
    "beta0 = -60.717\n",
    "beta1 = 14.883\n",
    "\n",
    "# Unbiased estimate\n",
    "# unbiased_estimate = number_ill / number_tested\n",
    "\n",
    "# Estimated probability\n",
    "pi_i = np.exp(beta0 + beta1 * z) / (1 + np.exp(beta0 + beta1 * z))\n",
    "\n",
    "# Covariance matrix for beta_hat\n",
    "X = np.column_stack((np.ones_like(dose), dose))\n",
    "V = np.diag(pi_i * (1 - pi_i))\n",
    "cov_beta_hat = np.linalg.inv(X.T @ V @ X)\n",
    "\n",
    "# Print the results\n",
    "print(\"Unbiased Estimate (pi):\", unbiased_estimate)\n",
    "print(\"Estimated Probability (pi_i):\", pi_i)\n",
    "print(\"Covariance Matrix for beta_hat:\")\n",
    "print(cov_beta_hat)\n"
   ]
  },
  {
   "cell_type": "code",
   "execution_count": 38,
   "metadata": {},
   "outputs": [
    {
     "name": "stdout",
     "output_type": "stream",
     "text": [
      "Observed Fisher Information Matrix V:\n",
      "[[ 26.76693743   0.        ]\n",
      " [  0.         455.7894148 ]]\n"
     ]
    }
   ],
   "source": [
    "import numpy as np\n",
    "\n",
    "number_killed = np.array([6, 13, 18, 28, 52, 53, 61, 60])\n",
    "number_survival = np.array([53, 47, 44, 28, 11, 6, 1, 0])\n",
    "pi_i = number_killed / (number_killed + number_survival)\n",
    "z = np.array([3.893, 3.970, 4.043, 4.103, 4.164, 4.233, 4.258, 4.338])\n",
    "\n",
    "# Compute V11\n",
    "V11 = np.sum(number_killed * pi_i * (1 - pi_i))\n",
    "\n",
    "# Compute V22\n",
    "V22 = np.sum(number_killed * pi_i * (1 - pi_i) * z**2)\n",
    "\n",
    "# Construct the observed Fisher information matrix V\n",
    "V = np.diag([V11, V22])\n",
    "\n",
    "print(\"Observed Fisher Information Matrix V:\")\n",
    "print(V)\n"
   ]
  },
  {
   "cell_type": "code",
   "execution_count": 45,
   "metadata": {},
   "outputs": [
    {
     "name": "stdout",
     "output_type": "stream",
     "text": [
      "[[ 1.56680648e-01 -3.22362785e-03]\n",
      " [-3.22362785e-03  6.93736869e-05]]\n"
     ]
    }
   ],
   "source": [
    "#HWM3\n",
    "import numpy as np\n",
    "from scipy.special import factorial\n",
    "import matplotlib.pyplot as plt\n",
    "from scipy.stats import chi2\n",
    "\n",
    "####DATA\n",
    "#Variables\n",
    "age = np.array([30,35,40,45,50,55,60,65])\n",
    "of_ill_people = np.array([19,27,38,48,61,73,84,91])\n",
    "of_people_tested =np.array([100,100,100,100,100,100,100,100])\n",
    "\n",
    "Z = age #we put Z=log(age)\n",
    "π_i = pi_i_function(Z)\n",
    "\n",
    "\n",
    "#Parameters\n",
    "beta0_h = -5\n",
    "beta1_h = 0.11\n",
    "alpha = 0.05\n",
    "\n",
    "#function:π_i(x_i)\n",
    "def pi_i_function(x_i):\n",
    "    num = np.exp(beta0_h+beta1_h*x_i)\n",
    "    den = 1 + np.exp(beta0_h+beta1_h*x_i)\n",
    "    return (num/den)\n",
    "\n",
    "\n",
    "n=100\n",
    "T=np.transpose(np.array([[1,1,1,1,1,1,1,1],Z]))\n",
    "V=np.diag(n*π_i*(1-π_i))\n",
    "covariance_matrix=np.linalg.inv(np.dot(np.dot(np.transpose(T),V),T))\n",
    "\n",
    "print(covariance_matrix)\n"
   ]
  },
  {
   "cell_type": "code",
   "execution_count": 49,
   "metadata": {},
   "outputs": [
    {
     "name": "stdout",
     "output_type": "stream",
     "text": [
      "6.382409123767618\n",
      "3.841458820694124\n"
     ]
    }
   ],
   "source": [
    "question:4\n",
    "\n",
    "beta0=-6\n",
    "chi2_Q4 = ((beta0_h - beta0)**2)/covariance_matrix[0][0] # = 0.034\n",
    "df = 1\n",
    "alpha = 0.05\n",
    "critical_value_Q4 = chi2.ppf(1 - alpha, df)\n",
    "\n",
    "print(chi2_Q4)\n",
    "print(critical_value_Q4)\n",
    "\n"
   ]
  },
  {
   "cell_type": "code",
   "execution_count": 58,
   "metadata": {},
   "outputs": [
    {
     "name": "stdout",
     "output_type": "stream",
     "text": [
      "116.75896671998848\n",
      "3.841458820694124\n"
     ]
    }
   ],
   "source": [
    "beta1=0.2\n",
    "chi2_Q5 = ((beta1_h - beta1)**2)/covariance_matrix[1][1] # = 0.004\n",
    "df = 1\n",
    "alpha = 0.05\n",
    "critical_value_Q5= chi2.ppf(1 - alpha, df) \n",
    "\n",
    "print(chi2_Q5)\n",
    "print(critical_value_Q5)"
   ]
  },
  {
   "cell_type": "code",
   "execution_count": 65,
   "metadata": {},
   "outputs": [
    {
     "name": "stdout",
     "output_type": "stream",
     "text": [
      "[[ 1.56680648e-01 -3.22362785e-03]\n",
      " [-3.22362785e-03  6.93736869e-05]]\n",
      "0.25\n",
      "0.007752080250000015\n",
      "32.24940815079917\n",
      "5.991464547107979\n"
     ]
    }
   ],
   "source": [
    "#option 1 : var(beta0 + 50*beta1) =  var(beta0) + var(50*beta1) + 2*cov(beta0,50*beta1)\n",
    "variance1 = covariance_matrix[0][0] + (50**2)*covariance_matrix[1][1] + 2*50*covariance_matrix[0][1]\n",
    "#option 2 : var(beta0 + 50*beta1) = D*cov(beta)*D' with D = (1,50) and beta = (beta0,beta1)\n",
    "#Because : beta0 + 50*beta1 = (1,50)*(beta0,beta1)'\n",
    "D = np.array([1,50])\n",
    "variance2 = np.dot(np.dot(D,covariance_matrix),np.transpose(D)) # = 4216.253\n",
    "print(covariance_matrix)\n",
    "chi2_Q6 = ((beta0_h + 50*beta1_h)**2)/variance2 #(=32.25)\n",
    "alpha = 0.05\n",
    "critical_value_Q6 = chi2.ppf(1 - alpha, 2) #(=5.99<chi2_Q6)\n",
    "print((beta0_h + 50*beta1_h)**2)\n",
    "print(variance1)\n",
    "print(chi2_Q6)\n",
    "print(critical_value_Q6)"
   ]
  },
  {
   "cell_type": "code",
   "execution_count": 68,
   "metadata": {},
   "outputs": [
    {
     "name": "stdout",
     "output_type": "stream",
     "text": [
      "-15454.899814914304\n",
      "-16047.864049472711\n",
      "-1185.928469116814\n"
     ]
    }
   ],
   "source": [
    "xi = of_ill_people\n",
    "ni=100\n",
    "\n",
    "#underH1:\n",
    "beta0_h,beta1_h = -5,0.11\n",
    "S1= np.sum( np.log(factorial(ni)/factorial(xi)) - np.log(factorial(ni-xi))+beta0_h*np.sum(xi))\n",
    "S2=beta1_h*np.sum(xi*Z) - np.sum(ni*np.log(1+np.exp(beta0_h + beta1_h*Z)))\n",
    "undH1 = S1+S2\n",
    "#underH0\n",
    "beta0,beta1 = -5.50,0.15\n",
    "S1= np.sum( np.log(factorial(ni)/factorial(xi)) - np.log(ni-xi)+beta0*np.sum(xi))\n",
    "S2=beta1*np.sum(xi*Z) - np.sum(ni*np.log(1+np.exp(beta0 + beta1*Z)))\n",
    "undH0 = S1+S2\n",
    "\n",
    "#deviance\n",
    "deviance = -2*(undH1-undH0)\n",
    "print(undH1)\n",
    "print(undH0)\n",
    "print(deviance)"
   ]
  },
  {
   "cell_type": "code",
   "execution_count": 73,
   "metadata": {},
   "outputs": [
    {
     "name": "stdout",
     "output_type": "stream",
     "text": [
      "423.1536869626002\n",
      "-224.17314168317904\n",
      "-129.89797785468403\n",
      "-19.899814914303192\n",
      "-219.99632588076167\n",
      "[19 27 38 48 61 73 84 91]\n"
     ]
    }
   ],
   "source": [
    "##7version2\n",
    "\n",
    "#undH0\n",
    "beta0_h,beta1_h = -5.5 , 0.15\n",
    "π_i = pi_i_function(Z)\n",
    "\n",
    "S11=np.sum(np.log(factorial(n))-np.log(factorial(xi)) - np.log(factorial(ni-xi)) )\n",
    "S22=np.sum(xi*np.log(π_i))\n",
    "S33=np.sum((ni-xi)*np.log(1-π_i))\n",
    "\n",
    "und0 = S11 +S22 +S33\n",
    "\n",
    "#undH1\n",
    "beta0_h,beta1_h = -5,0.11\n",
    "π_i = pi_i_function(Z)\n",
    "\n",
    "S11=np.sum(np.log(factorial(n))-np.log(factorial(xi)) - np.log(factorial(ni-xi)) )\n",
    "S22=np.sum(xi*np.log(π_i))\n",
    "S33=np.sum((ni-xi)*np.log(1-π_i))\n",
    "\n",
    "und1 = S11 +S22 +S33\n",
    "\n",
    "deviance = -2*(und1-und0)\n",
    "\n",
    "print(S11)\n",
    "print(S22)\n",
    "print(und0)\n",
    "print(und1)\n",
    "print(deviance)\n",
    "print(xi)"
   ]
  },
  {
   "cell_type": "code",
   "execution_count": null,
   "metadata": {},
   "outputs": [],
   "source": []
  }
 ],
 "metadata": {
  "kernelspec": {
   "display_name": "base",
   "language": "python",
   "name": "python3"
  },
  "language_info": {
   "codemirror_mode": {
    "name": "ipython",
    "version": 3
   },
   "file_extension": ".py",
   "mimetype": "text/x-python",
   "name": "python",
   "nbconvert_exporter": "python",
   "pygments_lexer": "ipython3",
   "version": "3.9.12"
  },
  "orig_nbformat": 4
 },
 "nbformat": 4,
 "nbformat_minor": 2
}
